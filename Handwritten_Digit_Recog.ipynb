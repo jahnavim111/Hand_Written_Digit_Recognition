{
  "nbformat": 4,
  "nbformat_minor": 0,
  "metadata": {
    "colab": {
      "name": "Handwritten_Digit_Recog.ipynb",
      "provenance": [],
      "collapsed_sections": [],
      "include_colab_link": true
    },
    "kernelspec": {
      "name": "python3",
      "display_name": "Python 3"
    },
    "language_info": {
      "name": "python"
    }
  },
  "cells": [
    {
      "cell_type": "markdown",
      "metadata": {
        "id": "view-in-github",
        "colab_type": "text"
      },
      "source": [
        "<a href=\"https://colab.research.google.com/github/jahnavim111/Hand_Written_Digit_Recognition/blob/main/Handwritten_Digit_Recog.ipynb\" target=\"_parent\"><img src=\"https://colab.research.google.com/assets/colab-badge.svg\" alt=\"Open In Colab\"/></a>"
      ]
    },
    {
      "cell_type": "markdown",
      "source": [
        "# **1. Import libraries**"
      ],
      "metadata": {
        "id": "Ug9WBg8l9HMa"
      }
    },
    {
      "cell_type": "code",
      "execution_count": null,
      "metadata": {
        "id": "BX9QYlza85-z"
      },
      "outputs": [],
      "source": [
        "import tensorflow as tf\n",
        "import matplotlib.pyplot as plt\n",
        "from tensorflow.python.keras.models import Sequential\n",
        "from tensorflow.python.keras.layers import Dense, Conv2D, Dropout, Flatten, MaxPooling2D"
      ]
    },
    {
      "cell_type": "markdown",
      "source": [
        "# **2. Load DataSet**"
      ],
      "metadata": {
        "id": "k_BAU5dAGmHr"
      }
    },
    {
      "cell_type": "code",
      "source": [
        "(x_train, y_train), (x_test, y_test) = tf.keras.datasets.mnist.load_data()\n",
        "x_train.shape"
      ],
      "metadata": {
        "colab": {
          "base_uri": "https://localhost:8080/"
        },
        "id": "3bw4Y_Wk9Wo3",
        "outputId": "fb3db0c2-7008-4268-9fd6-e6795e6f482a"
      },
      "execution_count": null,
      "outputs": [
        {
          "output_type": "stream",
          "name": "stdout",
          "text": [
            "Downloading data from https://storage.googleapis.com/tensorflow/tf-keras-datasets/mnist.npz\n",
            "11493376/11490434 [==============================] - 0s 0us/step\n",
            "11501568/11490434 [==============================] - 0s 0us/step\n"
          ]
        },
        {
          "output_type": "execute_result",
          "data": {
            "text/plain": [
              "(60000, 28, 28)"
            ]
          },
          "metadata": {},
          "execution_count": 4
        }
      ]
    },
    {
      "cell_type": "markdown",
      "source": [
        "# **3. Preprocess the Data**"
      ],
      "metadata": {
        "id": "uA1OlmgDG_Mj"
      }
    },
    {
      "cell_type": "code",
      "source": [
        "# reshape\n",
        "x_train = x_train.reshape(x_train.shape[0], 28, 28, 1)\n",
        "x_test = x_test.reshape(x_test.shape[0], 28, 28, 1)\n",
        "input_shape = (28, 28, 1)\n",
        "print('Dimension',x_train.ndim)\n",
        "print('x_train shape:', x_train.shape)\n",
        "print('Number of images in x_train', x_train.shape[0])\n",
        "print('Number of images in x_test', x_test.shape[0])\n"
      ],
      "metadata": {
        "colab": {
          "base_uri": "https://localhost:8080/"
        },
        "id": "xqBqCQoeG-w7",
        "outputId": "9eba875e-00d5-4f5a-ad89-bbfd480505f6"
      },
      "execution_count": null,
      "outputs": [
        {
          "output_type": "stream",
          "name": "stdout",
          "text": [
            "Dimension 4\n",
            "x_train shape: (60000, 28, 28, 1)\n",
            "Number of images in x_train 60000\n",
            "Number of images in x_test 10000\n"
          ]
        }
      ]
    },
    {
      "cell_type": "code",
      "source": [
        "# Normalize\n",
        "x_train = x_train.astype('float32')\n",
        "x_test = x_test.astype('float32')\n",
        "x_train /= 255\n",
        "x_test /= 255\n"
      ],
      "metadata": {
        "id": "LaUBLNF1HHfL"
      },
      "execution_count": null,
      "outputs": []
    },
    {
      "cell_type": "markdown",
      "source": [
        "# **4. Create Model**"
      ],
      "metadata": {
        "id": "VYFFiKRaHKsE"
      }
    },
    {
      "cell_type": "code",
      "source": [
        "no_of_classes = 10\n",
        "\n",
        "model = Sequential()\n",
        "model.add(Conv2D(28, kernel_size=(3,3),activation='relu', input_shape=input_shape))\n",
        "model.add(Conv2D(64, (3, 3), activation='relu'))\n",
        "model.add(MaxPooling2D(pool_size=(2, 2)))\n",
        "model.add(Dropout(0.2))\n",
        "model.add(Flatten()) \n",
        "model.add(Dense(256, activation=tf.nn.relu))\n",
        "model.add(Dropout(0.45))\n",
        "model.add(Dense(no_of_classes,activation=tf.nn.softmax))"
      ],
      "metadata": {
        "id": "powb3QvMHLta"
      },
      "execution_count": null,
      "outputs": []
    },
    {
      "cell_type": "markdown",
      "source": [
        "# **5. Train the Model**"
      ],
      "metadata": {
        "id": "W5jHBLXjIlD0"
      }
    },
    {
      "cell_type": "code",
      "source": [
        "model.compile(optimizer='adam', \n",
        "              loss='sparse_categorical_crossentropy', \n",
        "              metrics=['accuracy'])\n",
        "model.fit(x=x_train,y=y_train, epochs=5)"
      ],
      "metadata": {
        "colab": {
          "base_uri": "https://localhost:8080/"
        },
        "id": "QapUjXkeIiC2",
        "outputId": "1d43f28d-0246-407c-a5c5-2146bf7cf4a6"
      },
      "execution_count": null,
      "outputs": [
        {
          "output_type": "stream",
          "name": "stdout",
          "text": [
            "Epoch 1/5\n",
            "1875/1875 [==============================] - 185s 98ms/step - loss: 0.0557 - accuracy: 0.9825\n",
            "Epoch 2/5\n",
            "1875/1875 [==============================] - 181s 96ms/step - loss: 0.0399 - accuracy: 0.9876\n",
            "Epoch 3/5\n",
            "1875/1875 [==============================] - 182s 97ms/step - loss: 0.0309 - accuracy: 0.9905\n",
            "Epoch 4/5\n",
            "1875/1875 [==============================] - 179s 96ms/step - loss: 0.0236 - accuracy: 0.9926\n",
            "Epoch 5/5\n",
            "1875/1875 [==============================] - 180s 96ms/step - loss: 0.0214 - accuracy: 0.9934\n"
          ]
        },
        {
          "output_type": "execute_result",
          "data": {
            "text/plain": [
              "<tensorflow.python.keras.callbacks.History at 0x7fe98683df90>"
            ]
          },
          "metadata": {},
          "execution_count": 9
        }
      ]
    },
    {
      "cell_type": "markdown",
      "source": [
        "# **6. Evaluate the model**"
      ],
      "metadata": {
        "id": "8GKOfavhU9I1"
      }
    },
    {
      "cell_type": "code",
      "source": [
        "score = model.evaluate(x_test, y_test)\n",
        "print('Test loss:', score[0])\n",
        "print('Test accuracy:', score[1])"
      ],
      "metadata": {
        "colab": {
          "base_uri": "https://localhost:8080/"
        },
        "id": "rYgzs-QZU8Or",
        "outputId": "d67fb205-8ca7-4c06-9c53-7cb5daa4b3f8"
      },
      "execution_count": null,
      "outputs": [
        {
          "output_type": "stream",
          "name": "stdout",
          "text": [
            "313/313 [==============================] - 8s 25ms/step - loss: 0.0309 - accuracy: 0.9916\n",
            "Test loss: 0.030917273834347725\n",
            "Test accuracy: 0.991599977016449\n"
          ]
        }
      ]
    },
    {
      "cell_type": "markdown",
      "source": [
        "# **7. Predict the model**"
      ],
      "metadata": {
        "id": "h0O8ENUbVH11"
      }
    },
    {
      "cell_type": "code",
      "source": [
        "import numpy as np\n",
        "from PIL import Image"
      ],
      "metadata": {
        "id": "GKIci5LNVJv6"
      },
      "execution_count": null,
      "outputs": []
    },
    {
      "cell_type": "code",
      "source": [
        "img = Image.open('eight.jpg')\n",
        "img = img.resize((28,28))\n",
        "img = img.convert('L')\n",
        "img = np.array(img)\n",
        "img = img.reshape(1,28,28,1)\n",
        "img = img/255.0\n",
        "res = model.predict([img])[0]\n",
        "print(str(np.argmax(res))+', '+ str(int(max(res)*100))+'%')"
      ],
      "metadata": {
        "colab": {
          "base_uri": "https://localhost:8080/"
        },
        "id": "aOxrQuvOVKyN",
        "outputId": "fce45c2d-928d-49df-eb4f-d421388571b3"
      },
      "execution_count": null,
      "outputs": [
        {
          "output_type": "stream",
          "name": "stdout",
          "text": [
            "2, 44%\n"
          ]
        }
      ]
    }
  ]
}