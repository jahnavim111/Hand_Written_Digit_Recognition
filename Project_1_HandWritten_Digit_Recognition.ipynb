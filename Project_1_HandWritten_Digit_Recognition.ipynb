{
  "nbformat": 4,
  "nbformat_minor": 0,
  "metadata": {
    "colab": {
      "name": "Project-1: HandWritten_Digit_Recognition.ipynb",
      "provenance": [],
      "include_colab_link": true
    },
    "kernelspec": {
      "name": "python3",
      "display_name": "Python 3"
    }
  },
  "cells": [
    {
      "cell_type": "markdown",
      "metadata": {
        "id": "view-in-github",
        "colab_type": "text"
      },
      "source": [
        "<a href=\"https://colab.research.google.com/github/jahnavim111/Hand_Written_Digit_Recognition/blob/main/Project_1_HandWritten_Digit_Recognition.ipynb\" target=\"_parent\"><img src=\"https://colab.research.google.com/assets/colab-badge.svg\" alt=\"Open In Colab\"/></a>"
      ]
    },
    {
      "cell_type": "markdown",
      "metadata": {
        "id": "mdhSZ7PQdUS5"
      },
      "source": [
        "# **1. Import libraries**"
      ]
    },
    {
      "cell_type": "code",
      "metadata": {
        "id": "H8bhMD89euLZ"
      },
      "source": [
        "import tensorflow as tf\n",
        "import matplotlib.pyplot as plt\n",
        "from tensorflow.keras.models import Sequential\n",
        "from tensorflow.keras.layers import Dense, Conv2D, Dropout, Flatten, MaxPooling2D\n",
        "from PIL import Image\n",
        "import numpy as np"
      ],
      "execution_count": null,
      "outputs": []
    },
    {
      "cell_type": "markdown",
      "metadata": {
        "id": "4beo4XzNfEWv"
      },
      "source": [
        "# **2. Load DataSet**"
      ]
    },
    {
      "cell_type": "code",
      "metadata": {
        "colab": {
          "base_uri": "https://localhost:8080/"
        },
        "id": "A6uqMFX-QHFl",
        "outputId": "66e12569-016f-4310-92d9-d11eb5bbc022"
      },
      "source": [
        "(x_train, y_train), (x_test, y_test) = tf.keras.datasets.mnist.load_data()\n",
        "x_train.shape"
      ],
      "execution_count": null,
      "outputs": [
        {
          "output_type": "execute_result",
          "data": {
            "text/plain": [
              "(60000, 28, 28)"
            ]
          },
          "metadata": {
            "tags": []
          },
          "execution_count": 17
        }
      ]
    },
    {
      "cell_type": "markdown",
      "metadata": {
        "id": "mGStBP2tfZkM"
      },
      "source": [
        "**Displaying Data**"
      ]
    },
    {
      "cell_type": "code",
      "metadata": {
        "colab": {
          "base_uri": "https://localhost:8080/",
          "height": 596
        },
        "id": "w62pBB6WT7Op",
        "outputId": "b25cb7e1-afd1-4ec8-b595-cbe51a04e017"
      },
      "source": [
        "#%matplotlib inline\n",
        "fig, axs = plt.subplots(4, 4, figsize = (10, 10))\n",
        "plt.gray()\n",
        "for i, ax in enumerate(axs.flat):\n",
        "    ax.matshow(x_train[i])\n",
        "    ax.axis('off')\n",
        "    ax.set_title('Number {}'.format(y_train[i]))\n",
        "\n",
        "# Other Method\n",
        "# for i in range(0,10):\n",
        "#   plt.figure(figsize=(2,2))\n",
        "#   plt.imshow(x_train[i])\n",
        "#   print(y_train[i])\n",
        "#   plt.show()\n"
      ],
      "execution_count": null,
      "outputs": [
        {
          "output_type": "display_data",
          "data": {
            "image/png": "[encoded data removed]",
            "text/plain": [
              "<Figure size 720x720 with 16 Axes>"
            ]
          },
          "metadata": {
            "tags": [],
            "needs_background": "light"
          }
        }
      ]
    },
    {
      "cell_type": "markdown",
      "metadata": {
        "id": "jWXZmlhzgsx2"
      },
      "source": [
        "# **3. Preprocess the Data**"
      ]
    },
    {
      "cell_type": "code",
      "metadata": {
        "id": "jVbanpv2Qnrt",
        "colab": {
          "base_uri": "https://localhost:8080/"
        },
        "outputId": "334704ae-1116-4764-fac8-b8297fb52c6b"
      },
      "source": [
        "# reshape\n",
        "x_train = x_train.reshape(x_train.shape[0], 28, 28, 1)\n",
        "x_test = x_test.reshape(x_test.shape[0], 28, 28, 1)\n",
        "input_shape = (28, 28, 1)\n",
        "print('Dimension',x_train.ndim)\n",
        "print('x_train shape:', x_train.shape)\n",
        "print('Number of images in x_train', x_train.shape[0])\n",
        "print('Number of images in x_test', x_test.shape[0])\n"
      ],
      "execution_count": null,
      "outputs": [
        {
          "output_type": "stream",
          "text": [
            "Dimension 4\n",
            "x_train shape: (60000, 28, 28, 1)\n",
            "Number of images in x_train 60000\n",
            "Number of images in x_test 10000\n"
          ],
          "name": "stdout"
        }
      ]
    },
    {
      "cell_type": "code",
      "metadata": {
        "id": "hi31ZKC214FZ"
      },
      "source": [
        "# Normalize\n",
        "x_train = x_train.astype('float32')\n",
        "x_test = x_test.astype('float32')\n",
        "x_train /= 255\n",
        "x_test /= 255\n"
      ],
      "execution_count": null,
      "outputs": []
    },
    {
      "cell_type": "markdown",
      "metadata": {
        "id": "aDcXG32EhTDn"
      },
      "source": [
        "# **4. Create Model**"
      ]
    },
    {
      "cell_type": "code",
      "metadata": {
        "id": "xGTpAYoZQvh_"
      },
      "source": [
        "no_of_classes = 10\n",
        "\n",
        "model = Sequential()\n",
        "model.add(Conv2D(28, kernel_size=(3,3), input_shape=input_shape))\n",
        "model.add(MaxPooling2D(pool_size=(2, 2)))\n",
        "model.add(Flatten()) \n",
        "model.add(Dense(128, activation=tf.nn.relu))\n",
        "model.add(Dropout(0.2))\n",
        "model.add(Dense(no_of_classes,activation=tf.nn.softmax))"
      ],
      "execution_count": null,
      "outputs": []
    },
    {
      "cell_type": "markdown",
      "metadata": {
        "id": "4TQ40HhviG37"
      },
      "source": [
        "# **5. Train the Model**"
      ]
    },
    {
      "cell_type": "code",
      "metadata": {
        "colab": {
          "base_uri": "https://localhost:8080/"
        },
        "id": "PJ-V1KPdQ1W7",
        "outputId": "7b342d68-8e2c-4187-ba36-10a771d3a11a"
      },
      "source": [
        "model.compile(optimizer='adam', \n",
        "              loss='sparse_categorical_crossentropy', \n",
        "              metrics=['accuracy'])\n",
        "model.fit(x=x_train,y=y_train, epochs=3)"
      ],
      "execution_count": null,
      "outputs": [
        {
          "output_type": "stream",
          "text": [
            "Epoch 1/3\n",
            "1875/1875 [==============================] - 33s 17ms/step - loss: 0.2000 - accuracy: 0.9403\n",
            "Epoch 2/3\n",
            "1875/1875 [==============================] - 32s 17ms/step - loss: 0.0833 - accuracy: 0.9750\n",
            "Epoch 3/3\n",
            "1875/1875 [==============================] - 32s 17ms/step - loss: 0.0581 - accuracy: 0.9815\n"
          ],
          "name": "stdout"
        },
        {
          "output_type": "execute_result",
          "data": {
            "text/plain": [
              "<tensorflow.python.keras.callbacks.History at 0x7f661bcbb350>"
            ]
          },
          "metadata": {
            "tags": []
          },
          "execution_count": 7
        }
      ]
    },
    {
      "cell_type": "markdown",
      "metadata": {
        "id": "aBJU1R2JiZJn"
      },
      "source": [
        "# **6. Evaluate the model**"
      ]
    },
    {
      "cell_type": "code",
      "metadata": {
        "colab": {
          "base_uri": "https://localhost:8080/"
        },
        "id": "QwYRSf0vRKWd",
        "outputId": "809dac9a-cc88-4f7e-8bf6-6804a809b62f"
      },
      "source": [
        "score = model.evaluate(x_test, y_test)\n",
        "print('Test loss:', score[0])\n",
        "print('Test accuracy:', score[1])"
      ],
      "execution_count": null,
      "outputs": [
        {
          "output_type": "stream",
          "text": [
            "313/313 [==============================] - 2s 6ms/step - loss: 0.0502 - accuracy: 0.9843\n",
            "Test loss: 0.050226081162691116\n",
            "Test accuracy: 0.9843000173568726\n"
          ],
          "name": "stdout"
        }
      ]
    },
    {
      "cell_type": "markdown",
      "metadata": {
        "id": "7ZEGOuUDi4TF"
      },
      "source": [
        "# **7. Predict the model**"
      ]
    },
    {
      "cell_type": "code",
      "metadata": {
        "id": "xE2Z3BfpYAAy"
      },
      "source": [
        "p = model.predict(x_test)"
      ],
      "execution_count": null,
      "outputs": []
    },
    {
      "cell_type": "code",
      "metadata": {
        "colab": {
          "base_uri": "https://localhost:8080/"
        },
        "id": "E2at2y7DYKa0",
        "outputId": "febe7ea6-f948-49af-d1a3-33b496e67589"
      },
      "source": [
        "print(p[0])"
      ],
      "execution_count": null,
      "outputs": [
        {
          "output_type": "stream",
          "text": [
            "[3.2001002e-09 2.1104063e-09 1.1859572e-07 1.7986356e-07 2.3029293e-12\n",
            " 2.7130393e-11 4.1409598e-17 9.9999964e-01 7.2156470e-10 1.5392905e-08]\n"
          ],
          "name": "stdout"
        }
      ]
    },
    {
      "cell_type": "markdown",
      "metadata": {
        "id": "iFveF0EfjQZZ"
      },
      "source": [
        "# **Predictions of loaded image**"
      ]
    },
    {
      "cell_type": "code",
      "metadata": {
        "colab": {
          "base_uri": "https://localhost:8080/",
          "height": 282
        },
        "id": "bAwimlITSrCC",
        "outputId": "96e6dd73-63a4-444f-efc9-da7ed7f4ad90"
      },
      "source": [
        "image = np.array(Image.open(\"eight.jpg\").resize((28,28)).convert('L'))\n",
        "plt.imshow(image)\n",
        "image = image.reshape(1,28,28,1)\n",
        "image = image/255.0\n",
        "res = model.predict([image])[0]\n",
        "print('Number Predicted: '+str(np.argmax(res))+' , Accuracy: '+ str(int(max(res)*100))+'%')\n",
        "\n"
      ],
      "execution_count": null,
      "outputs": [
        {
          "output_type": "stream",
          "text": [
            "Number Predicted: 8 , Accuracy: 98%\n"
          ],
          "name": "stdout"
        },
        {
          "output_type": "display_data",
          "data": {
            "image/png": "[encoded data removed]",
            "text/plain": [
              "<Figure size 432x288 with 1 Axes>"
            ]
          },
          "metadata": {
            "tags": [],
            "needs_background": "light"
          }
        }
      ]
    }
  ]
}